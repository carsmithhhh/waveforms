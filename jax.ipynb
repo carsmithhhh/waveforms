{
 "cells": [
  {
   "cell_type": "code",
   "execution_count": 4,
   "id": "13535edc-5000-4b33-855b-cd710dcf3578",
   "metadata": {},
   "outputs": [],
   "source": [
    "import numpy as np\n",
    "import matplotlib.pyplot as plt\n",
    "import torch\n",
    "import pickle\n",
    "\n",
    "from jax import random\n",
    "import jax\n",
    "import jax.numpy as jnp\n",
    "from jax.scipy.signal import convolve2d"
   ]
  },
  {
   "cell_type": "markdown",
   "id": "99e0b4ad-9542-4fca-b7a2-755731ca0256",
   "metadata": {},
   "source": [
    "### Bookkeeping\n",
    "* All time units are in microseconds"
   ]
  },
  {
   "cell_type": "markdown",
   "id": "bc3f344d-1a9c-4ff3-8359-622691c9eb0e",
   "metadata": {},
   "source": [
    "### First, generate continuous arrival time spectrum and do binning"
   ]
  },
  {
   "cell_type": "code",
   "execution_count": 2,
   "id": "12595bda-cfd0-443b-b75b-39f2a6701dfe",
   "metadata": {},
   "outputs": [],
   "source": [
    "def gen_binned_waveform_jax(key: jax.random.PRNGKey, nphotons: int = 1, npmts: int = 128, arrival_window_width: float = 0.05, res: float = 0.001) -> jnp.ndarray:\n",
    "    \n",
    "    nbins = int(arrival_window_width / res)\n",
    "    total_bins = nbins + int(arrival_window_width) # pad time axis\n",
    "\n",
    "    key_photons, key_pmts = jax.random.split(key)\n",
    "\n",
    "    # Generate random \"continuous\" arrival times\n",
    "    arrival_times = jax.random.uniform(key_photons, shape=(nphotons,), minval=0.0, maxval=arrival_window_width)\n",
    "    bin_indices = jnp.floor(arrival_times / res).astype(jnp.int32)\n",
    "    bin_indices = jnp.clip(bin_indices, 0, nbins - 1)\n",
    "\n",
    "    # Generate random PMT assignments\n",
    "    pmt_indices = jax.random.randint(key_pmts, shape=(nphotons,), minval=0, maxval=npmts)\n",
    "\n",
    "    # Convert 2D indices to flat indices\n",
    "    flat_indices = pmt_indices * total_bins + bin_indices\n",
    "\n",
    "    # Use `jax.numpy.bincount` to accumulate\n",
    "    counts = segment_sum(data=jnp.ones(nphotons), segment_ids=flat_indices, num_segments=total_bins)\n",
    "    waveform = counts.reshape(npmts, total_bins)\n",
    "\n",
    "    return waveform\n"
   ]
  },
  {
   "cell_type": "code",
   "execution_count": 6,
   "id": "613abb0a-0ba5-4dc8-b3a6-aa037dbfe5a9",
   "metadata": {},
   "outputs": [
    {
     "ename": "TypeError",
     "evalue": "gen_binned_waveform_jax() missing 1 required positional argument: 'key'",
     "output_type": "error",
     "traceback": [
      "\u001b[0;31m---------------------------------------------------------------------------\u001b[0m",
      "\u001b[0;31mTypeError\u001b[0m                                 Traceback (most recent call last)",
      "Cell \u001b[0;32mIn[6], line 1\u001b[0m\n\u001b[0;32m----> 1\u001b[0m data \u001b[38;5;241m=\u001b[39m \u001b[43mgen_binned_waveform_jax\u001b[49m\u001b[43m(\u001b[49m\u001b[43mnphotons\u001b[49m\u001b[38;5;241;43m=\u001b[39;49m\u001b[38;5;241;43m10000\u001b[39;49m\u001b[43m)\u001b[49m\n\u001b[1;32m      2\u001b[0m \u001b[38;5;28mprint\u001b[39m(data\u001b[38;5;241m.\u001b[39mshape)\n\u001b[1;32m      4\u001b[0m plt\u001b[38;5;241m.\u001b[39mimshow(data)\n",
      "\u001b[0;31mTypeError\u001b[0m: gen_binned_waveform_jax() missing 1 required positional argument: 'key'"
     ]
    }
   ],
   "source": [
    "data = gen_binned_waveform_jax(nphotons=10000)\n",
    "print(data.shape)\n",
    "\n",
    "plt.imshow(data)"
   ]
  },
  {
   "cell_type": "code",
   "execution_count": 62,
   "id": "ea91802f-e873-4a29-8626-5766a6d0c758",
   "metadata": {},
   "outputs": [
    {
     "ename": "TypeError",
     "evalue": "Error interpreting argument to <function convolve at 0x7f19969e3130> as an abstract array. The problematic value is of type <class 'torch.Tensor'> and was passed to the function at path a.\nThis typically means that a jit-wrapped function was called with a non-array argument, and this argument was not marked as static using the static_argnums or static_argnames parameters of jax.jit.",
     "output_type": "error",
     "traceback": [
      "\u001b[0;31m---------------------------------------------------------------------------\u001b[0m",
      "\u001b[0;31mTypeError\u001b[0m                                 Traceback (most recent call last)",
      "Cell \u001b[0;32mIn[62], line 12\u001b[0m\n\u001b[1;32m     10\u001b[0m \u001b[38;5;66;03m# smoothing convolution example\u001b[39;00m\n\u001b[1;32m     11\u001b[0m window \u001b[38;5;241m=\u001b[39m jnp\u001b[38;5;241m.\u001b[39mones((\u001b[38;5;241m10\u001b[39m, \u001b[38;5;241m10\u001b[39m)) \u001b[38;5;241m/\u001b[39m \u001b[38;5;241m10\u001b[39m\n\u001b[0;32m---> 12\u001b[0m data_smooth \u001b[38;5;241m=\u001b[39m \u001b[43mjnp\u001b[49m\u001b[38;5;241;43m.\u001b[39;49m\u001b[43mconvolve\u001b[49m\u001b[43m(\u001b[49m\u001b[43mdata\u001b[49m\u001b[43m,\u001b[49m\u001b[43m \u001b[49m\u001b[43mwindow\u001b[49m\u001b[43m,\u001b[49m\u001b[43m \u001b[49m\u001b[43mmode\u001b[49m\u001b[38;5;241;43m=\u001b[39;49m\u001b[38;5;124;43m'\u001b[39;49m\u001b[38;5;124;43msame\u001b[39;49m\u001b[38;5;124;43m'\u001b[39;49m\u001b[43m)\u001b[49m\n\u001b[1;32m     13\u001b[0m plt\u001b[38;5;241m.\u001b[39mimshow(data_smooth)\n",
      "    \u001b[0;31m[... skipping hidden 5 frame]\u001b[0m\n",
      "File \u001b[0;32m/usr/local/lib/python3.10/dist-packages/jax/_src/pjit.py:739\u001b[0m, in \u001b[0;36m_infer_input_type\u001b[0;34m(fun, dbg, explicit_args)\u001b[0m\n\u001b[1;32m    737\u001b[0m \u001b[38;5;28;01mexcept\u001b[39;00m \u001b[38;5;167;01mTypeError\u001b[39;00m:\n\u001b[1;32m    738\u001b[0m   arg_description \u001b[38;5;241m=\u001b[39m \u001b[38;5;124mf\u001b[39m\u001b[38;5;124m\"\u001b[39m\u001b[38;5;124mpath \u001b[39m\u001b[38;5;132;01m{\u001b[39;00mdbg\u001b[38;5;241m.\u001b[39marg_names[i]\u001b[38;5;132;01m}\u001b[39;00m\u001b[38;5;124m\"\u001b[39m\n\u001b[0;32m--> 739\u001b[0m   \u001b[38;5;28;01mraise\u001b[39;00m \u001b[38;5;167;01mTypeError\u001b[39;00m(\n\u001b[1;32m    740\u001b[0m     \u001b[38;5;124mf\u001b[39m\u001b[38;5;124m\"\u001b[39m\u001b[38;5;124mError interpreting argument to \u001b[39m\u001b[38;5;132;01m{\u001b[39;00mfun\u001b[38;5;132;01m}\u001b[39;00m\u001b[38;5;124m as an abstract array.\u001b[39m\u001b[38;5;124m\"\u001b[39m\n\u001b[1;32m    741\u001b[0m     \u001b[38;5;124mf\u001b[39m\u001b[38;5;124m\"\u001b[39m\u001b[38;5;124m The problematic value is of type \u001b[39m\u001b[38;5;132;01m{\u001b[39;00m\u001b[38;5;28mtype\u001b[39m(x)\u001b[38;5;132;01m}\u001b[39;00m\u001b[38;5;124m and was passed to\u001b[39m\u001b[38;5;124m\"\u001b[39m\n\u001b[1;32m    742\u001b[0m     \u001b[38;5;124mf\u001b[39m\u001b[38;5;124m\"\u001b[39m\u001b[38;5;124m the function at \u001b[39m\u001b[38;5;132;01m{\u001b[39;00marg_description\u001b[38;5;132;01m}\u001b[39;00m\u001b[38;5;124m.\u001b[39m\u001b[38;5;130;01m\\n\u001b[39;00m\u001b[38;5;124m\"\u001b[39m\n\u001b[1;32m    743\u001b[0m     \u001b[38;5;124m\"\u001b[39m\u001b[38;5;124mThis typically means that a jit-wrapped function was called with a non-array\u001b[39m\u001b[38;5;124m\"\u001b[39m\n\u001b[1;32m    744\u001b[0m     \u001b[38;5;124m\"\u001b[39m\u001b[38;5;124m argument, and this argument was not marked as static using the\u001b[39m\u001b[38;5;124m\"\u001b[39m\n\u001b[1;32m    745\u001b[0m     \u001b[38;5;124m\"\u001b[39m\u001b[38;5;124m static_argnums or static_argnames parameters of jax.jit.\u001b[39m\u001b[38;5;124m\"\u001b[39m\n\u001b[1;32m    746\u001b[0m   ) \u001b[38;5;28;01mfrom\u001b[39;00m\u001b[38;5;250m \u001b[39m\u001b[38;5;28;01mNone\u001b[39;00m\n\u001b[1;32m    747\u001b[0m \u001b[38;5;28;01mif\u001b[39;00m config\u001b[38;5;241m.\u001b[39mmutable_array_checks\u001b[38;5;241m.\u001b[39mvalue:\n\u001b[1;32m    748\u001b[0m   _check_no_aliased_ref_args(dbg, avals, explicit_args)\n",
      "\u001b[0;31mTypeError\u001b[0m: Error interpreting argument to <function convolve at 0x7f19969e3130> as an abstract array. The problematic value is of type <class 'torch.Tensor'> and was passed to the function at path a.\nThis typically means that a jit-wrapped function was called with a non-array argument, and this argument was not marked as static using the static_argnums or static_argnames parameters of jax.jit."
     ]
    }
   ],
   "source": [
    "# making a convolution\n",
    "'''\n",
    "x = jnp.linspace(0, 10, 500)\n",
    "y = jnp.sin(x) + 0.2 * random.normal(key, shape=(500,))\n",
    "\n",
    "window = jnp.ones(10) / 10\n",
    "y_smooth = jnp.convolve(y, window, mode='same')\n",
    "'''\n",
    "\n",
    "# smoothing convolution example\n",
    "window = jnp.ones((10, 10)) / 10\n",
    "data_smooth = jnp.convolve(data, window, mode='same')\n",
    "plt.imshow(data_smooth)"
   ]
  },
  {
   "cell_type": "code",
   "execution_count": null,
   "id": "758ae00a-0238-4e66-a77c-353c72d2d4bf",
   "metadata": {},
   "outputs": [],
   "source": []
  }
 ],
 "metadata": {
  "kernelspec": {
   "display_name": "Python 3 (ipykernel)",
   "language": "python",
   "name": "python3"
  },
  "language_info": {
   "codemirror_mode": {
    "name": "ipython",
    "version": 3
   },
   "file_extension": ".py",
   "mimetype": "text/x-python",
   "name": "python",
   "nbconvert_exporter": "python",
   "pygments_lexer": "ipython3",
   "version": "3.10.12"
  }
 },
 "nbformat": 4,
 "nbformat_minor": 5
}
