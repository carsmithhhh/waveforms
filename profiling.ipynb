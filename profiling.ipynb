{
 "cells": [
  {
   "cell_type": "code",
   "execution_count": 1,
   "id": "cf53d208-04d3-4efd-8fce-8f4d751ae3b3",
   "metadata": {},
   "outputs": [],
   "source": [
    "import numpy as np\n",
    "import matplotlib.pyplot as plt\n",
    "import torch\n",
    "import os\n",
    "import time\n",
    "from math import ceil\n",
    "from pathlib import Path\n",
    "from matplotlib.colors import LogNorm\n",
    "import yaml\n",
    "from make_waveform import BatchedLightSimulation, mod0_sampler\n",
    "from tqdm import tqdm, trange\n",
    "\n",
    "import sys\n",
    "sys.path.append('/sdf/home/c/carsmith/flash_reconstruction/siren-lartpc')\n",
    "sys.path.append('..')"
   ]
  },
  {
   "cell_type": "code",
   "execution_count": 2,
   "id": "08b186d7-0454-4480-8895-a72f3fbc3cba",
   "metadata": {},
   "outputs": [
    {
     "name": "stdout",
     "output_type": "stream",
     "text": [
      "BatchedLightSimulation Config:\n",
      "\tSINGLET_FRACTION: uniform(0.1, 0.5)\n",
      "\tLIGHT_OSCILLATION_PERIOD: uniform(0.05, 0.20)\n",
      "\tLIGHT_RESPONSE_TIME: uniform(0.01, 0.10)\n",
      "\tLIGHT_GAIN: uniform(-50.0, -20.0)\n",
      "\tTAU_S: uniform(0.0001, 0.01)\n",
      "\tTAU_T: uniform(0.9, 2.1)\n",
      "\t\n",
      "\tNOMINAL_SINGLET_FRACTION: 0.000000001 #0.35\n",
      "\tNOMINAL_LIGHT_OSCILLATION_PERIOD: 0.11     # us\n",
      "\tNOMINAL_LIGHT_RESPONSE_TIME: 0.055         # us^-1\n",
      "\tNOMINAL_TAU_S: 0.001                       # us\n",
      "\tNOMINAL_TAU_T: 1.530                       # us\n",
      "\tNOMINAL_LIGHT_GAIN: -45.0                  # ADC us/pe\n",
      "\t\n",
      "\tLIGHT_TICK_SIZE: 0.001\n",
      "\tLIGHT_WINDOW: [1, 10]\n"
     ]
    }
   ],
   "source": [
    "device = torch.device('cuda:0')\n",
    "\n",
    "sim = BatchedLightSimulation(cfg=\"templates/waveform_sim.yaml\").to(device)"
   ]
  },
  {
   "cell_type": "code",
   "execution_count": 3,
   "id": "009f525e-ccfb-442f-b1dd-69aa6dc805d0",
   "metadata": {},
   "outputs": [
    {
     "name": "stdout",
     "output_type": "stream",
     "text": [
      "0.33\n"
     ]
    }
   ],
   "source": [
    "params = dict()\n",
    "\n",
    "params['singlet_fraction'] = 0.33\n",
    "params['light_oscillation_period'] = 0.11\n",
    "params['light_response_time'] = 0.055\n",
    "params['tau_s'] = 0.001\n",
    "params['tau_t'] = 1.530\n",
    "params['tpb_tau'] = 0.002\n",
    "params['light_gain'] = -45.0\n",
    "\n",
    "# Check it is updated\n",
    "sim.reconfigure(params)\n",
    "print(sim.singlet_fraction)"
   ]
  },
  {
   "cell_type": "code",
   "execution_count": 4,
   "id": "c3464f50-8cfe-4d1a-a643-d984f15eaaf1",
   "metadata": {},
   "outputs": [],
   "source": [
    "# parameters for inputs\n",
    "pmt_ids = torch.arange(128)\n",
    "arrival_times = torch.zeros(128, dtype=torch.int64)\n",
    "nphotons = torch.full_like(pmt_ids, 781250)"
   ]
  },
  {
   "cell_type": "code",
   "execution_count": 5,
   "id": "b7128539-1bcc-4893-8257-e13c94bba366",
   "metadata": {},
   "outputs": [
    {
     "name": "stdout",
     "output_type": "stream",
     "text": [
      "total combined sampling time: 5.4045 sec\n",
      "sipm response conv. time: 0.0386 sec\n",
      "forward time: 5.4766 sec\n",
      "total combined sampling time: 4.5653 sec\n",
      "sipm response conv. time: 0.0011 sec\n",
      "forward time: 4.5734 sec\n",
      "total combined sampling time: 4.6554 sec\n",
      "sipm response conv. time: 0.0009 sec\n",
      "forward time: 4.6696 sec\n",
      "total combined sampling time: 4.5242 sec\n",
      "sipm response conv. time: 0.0010 sec\n",
      "forward time: 4.5295 sec\n",
      "total combined sampling time: 4.3144 sec\n",
      "sipm response conv. time: 0.0008 sec\n",
      "forward time: 4.3224 sec\n",
      "total combined sampling time: 4.5489 sec\n",
      "sipm response conv. time: 0.0008 sec\n",
      "forward time: 4.5538 sec\n",
      "total combined sampling time: 4.2493 sec\n",
      "sipm response conv. time: 0.0009 sec\n",
      "forward time: 4.2544 sec\n",
      "total combined sampling time: 4.3543 sec\n",
      "sipm response conv. time: 0.0008 sec\n",
      "forward time: 4.3691 sec\n",
      "total combined sampling time: 4.6478 sec\n",
      "sipm response conv. time: 0.0008 sec\n",
      "forward time: 4.6558 sec\n",
      "total combined sampling time: 4.3058 sec\n",
      "sipm response conv. time: 0.0009 sec\n",
      "forward time: 4.3140 sec\n"
     ]
    }
   ],
   "source": [
    "# generate inputs / time forward\n",
    "for _ in range(10):\n",
    "    wf = sim.gen_waveform(mode='gaussian', pmt_ids=pmt_ids, nphotons=nphotons)\n",
    "    output, info = sim(wf.to(device), combined=True)"
   ]
  },
  {
   "cell_type": "code",
   "execution_count": 7,
   "id": "475e5af7-1ad0-46a3-9dc1-b8d001351bfb",
   "metadata": {},
   "outputs": [
    {
     "name": "stdout",
     "output_type": "stream",
     "text": [
      "(45,)\n"
     ]
    },
    {
     "data": {
      "text/plain": [
       "<matplotlib.collections.PathCollection at 0x7f9f827e4fa0>"
      ]
     },
     "execution_count": 7,
     "metadata": {},
     "output_type": "execute_result"
    },
    {
     "data": {
      "image/png": "[encoded data removed]",
      "text/plain": [
       "<Figure size 640x480 with 1 Axes>"
      ]
     },
     "metadata": {},
     "output_type": "display_data"
    }
   ],
   "source": [
    "import pickle\n",
    "data = np.loadtxt('sampling_times.txt')\n",
    "\n",
    "print(data.shape)\n",
    "plt.scatter(np.arange(len(data[:-10])), data[:-10])"
   ]
  },
  {
   "cell_type": "code",
   "execution_count": null,
   "id": "8dbf0eda-9d82-4d83-9299-911163a00478",
   "metadata": {},
   "outputs": [],
   "source": []
  }
 ],
 "metadata": {
  "kernelspec": {
   "display_name": "Python 3 (ipykernel)",
   "language": "python",
   "name": "python3"
  },
  "language_info": {
   "codemirror_mode": {
    "name": "ipython",
    "version": 3
   },
   "file_extension": ".py",
   "mimetype": "text/x-python",
   "name": "python",
   "nbconvert_exporter": "python",
   "pygments_lexer": "ipython3",
   "version": "3.10.12"
  }
 },
 "nbformat": 4,
 "nbformat_minor": 5
}
