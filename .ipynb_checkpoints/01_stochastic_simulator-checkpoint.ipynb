{
 "cells": [
  {
   "cell_type": "code",
   "execution_count": 11,
   "id": "f07e1050-fee0-4c22-9b5f-0db56e6c5e7f",
   "metadata": {},
   "outputs": [],
   "source": [
    "import numpy as np\n",
    "import matplotlib.pyplot as plt\n",
    "import torch\n",
    "import os\n",
    "import time\n",
    "from math import ceil\n",
    "from pathlib import Path\n",
    "from matplotlib.colors import LogNorm\n",
    "import yaml\n",
    "from make_waveform import BatchedLightSimulation, mod0_sampler\n",
    "from tqdm import tqdm, trange\n",
    "\n",
    "import sys\n",
    "sys.path.append('/sdf/home/c/carsmith/flash_reconstruction/siren-lartpc')\n",
    "sys.path.append('..')"
   ]
  },
  {
   "cell_type": "markdown",
   "id": "747b8fcb-f719-4dfb-9453-fdd8e3ae168d",
   "metadata": {},
   "source": [
    "### First, instantiate a simulator instance."
   ]
  },
  {
   "cell_type": "code",
   "execution_count": 12,
   "id": "6662fb41-794f-44ff-8ad0-f79bb68968cb",
   "metadata": {},
   "outputs": [
    {
     "name": "stdout",
     "output_type": "stream",
     "text": [
      "BatchedLightSimulation Config:\n",
      "\tSINGLET_FRACTION: uniform(0.1, 0.5)\n",
      "\tLIGHT_OSCILLATION_PERIOD: uniform(0.05, 0.20)\n",
      "\tLIGHT_RESPONSE_TIME: uniform(0.01, 0.10)\n",
      "\tLIGHT_GAIN: uniform(-50.0, -20.0)\n",
      "\tTAU_S: uniform(0.0001, 0.01)\n",
      "\tTAU_T: uniform(0.9, 2.1)\n",
      "\t\n",
      "\tNOMINAL_SINGLET_FRACTION: 0.000000001 #0.35\n",
      "\tNOMINAL_LIGHT_OSCILLATION_PERIOD: 0.11     # us\n",
      "\tNOMINAL_LIGHT_RESPONSE_TIME: 0.055         # us^-1\n",
      "\tNOMINAL_TAU_S: 0.001                       # us\n",
      "\tNOMINAL_TAU_T: 1.530                       # us\n",
      "\tNOMINAL_LIGHT_GAIN: -45.0                  # ADC us/pe\n",
      "\t\n",
      "\tLIGHT_TICK_SIZE: 0.001\n",
      "\tLIGHT_WINDOW: [1, 10]\n"
     ]
    }
   ],
   "source": [
    "device = torch.device('cuda:0')\n",
    "\n",
    "sim = BatchedLightSimulation(cfg=\"templates/waveform_sim.yaml\").to(device)"
   ]
  },
  {
   "cell_type": "markdown",
   "id": "42b4d03b-93dc-41a3-86e9-f8eb8f6626a1",
   "metadata": {},
   "source": [
    "### Reconfiguring simulation properties\n",
    "\n",
    "Default values:\n",
    "```\n",
    "NOMINAL_SINGLET_FRACTION: 0.000000001 #0.35\n",
    "NOMINAL_LIGHT_OSCILLATION_PERIOD: 0.11     # us\n",
    "NOMINAL_LIGHT_RESPONSE_TIME: 0.055         # us^-1\n",
    "NOMINAL_TAU_S: 0.001                       # us\n",
    "NOMINAL_TAU_T: 1.530                       # us\n",
    "NOMINAL_LIGHT_GAIN: -45.0                  # ADC us/pe\n",
    "```"
   ]
  },
  {
   "cell_type": "code",
   "execution_count": 13,
   "id": "8ea4e39f-b124-4391-b1ef-c77c0ff2f47b",
   "metadata": {},
   "outputs": [
    {
     "name": "stdout",
     "output_type": "stream",
     "text": [
      "1\n"
     ]
    }
   ],
   "source": [
    "params = dict()\n",
    "\n",
    "params['singlet_fraction'] = 1\n",
    "params['light_oscillation_period'] = 0.11\n",
    "params['light_response_time'] = 0.055\n",
    "params['tau_s'] = 0.001\n",
    "params['tau_t'] = 1.530\n",
    "params['light_gain'] = -45.0\n",
    "\n",
    "# Check it is updated\n",
    "sim.reconfigure(params)\n",
    "print(sim.singlet_fraction)"
   ]
  },
  {
   "cell_type": "markdown",
   "id": "b11832f8-d561-402b-838a-781c6b7d7a10",
   "metadata": {},
   "source": [
    "### Use `gen_waveform` in `precise` mode to generate an input of 10 photons per pmt"
   ]
  },
  {
   "cell_type": "code",
   "execution_count": 14,
   "id": "8f8c35b2-d23c-423f-be41-04b8d37948c1",
   "metadata": {},
   "outputs": [
    {
     "ename": "TypeError",
     "evalue": "BatchedLightSimulation._gen_waveform_gaussian() got an unexpected keyword argument 'arrival_times'",
     "output_type": "error",
     "traceback": [
      "\u001b[0;31m---------------------------------------------------------------------------\u001b[0m",
      "\u001b[0;31mTypeError\u001b[0m                                 Traceback (most recent call last)",
      "Cell \u001b[0;32mIn[14], line 4\u001b[0m\n\u001b[1;32m      2\u001b[0m arrival_times \u001b[38;5;241m=\u001b[39m torch\u001b[38;5;241m.\u001b[39mzeros(\u001b[38;5;241m128\u001b[39m, dtype\u001b[38;5;241m=\u001b[39mtorch\u001b[38;5;241m.\u001b[39mint64)\n\u001b[1;32m      3\u001b[0m nphotons \u001b[38;5;241m=\u001b[39m torch\u001b[38;5;241m.\u001b[39mfull_like(pmt_ids, \u001b[38;5;241m1000\u001b[39m)\n\u001b[0;32m----> 4\u001b[0m wf \u001b[38;5;241m=\u001b[39m \u001b[43msim\u001b[49m\u001b[38;5;241;43m.\u001b[39;49m\u001b[43mgen_waveform\u001b[49m\u001b[43m(\u001b[49m\u001b[43mmode\u001b[49m\u001b[38;5;241;43m=\u001b[39;49m\u001b[38;5;124;43m'\u001b[39;49m\u001b[38;5;124;43mgaussian\u001b[39;49m\u001b[38;5;124;43m'\u001b[39;49m\u001b[43m,\u001b[49m\u001b[43m \u001b[49m\u001b[43mpmt_ids\u001b[49m\u001b[38;5;241;43m=\u001b[39;49m\u001b[43mpmt_ids\u001b[49m\u001b[43m,\u001b[49m\u001b[43m \u001b[49m\u001b[43marrival_times\u001b[49m\u001b[38;5;241;43m=\u001b[39;49m\u001b[43marrival_times\u001b[49m\u001b[43m,\u001b[49m\u001b[43m \u001b[49m\u001b[43mnphotons\u001b[49m\u001b[38;5;241;43m=\u001b[39;49m\u001b[43mnphotons\u001b[49m\u001b[43m)\u001b[49m\n\u001b[1;32m      5\u001b[0m downsampled_wf \u001b[38;5;241m=\u001b[39m sim\u001b[38;5;241m.\u001b[39mdownsample_waveform(wf\u001b[38;5;241m.\u001b[39munsqueeze(\u001b[38;5;241m0\u001b[39m))\n\u001b[1;32m      6\u001b[0m \u001b[38;5;28mprint\u001b[39m(\u001b[38;5;124mf\u001b[39m\u001b[38;5;124m\"\u001b[39m\u001b[38;5;124mWaveform shape: \u001b[39m\u001b[38;5;132;01m{\u001b[39;00mwf\u001b[38;5;241m.\u001b[39mshape\u001b[38;5;132;01m}\u001b[39;00m\u001b[38;5;124m\"\u001b[39m)\n",
      "File \u001b[0;32m~/flash_reconstruction/waveforms/make_waveform.py:383\u001b[0m, in \u001b[0;36mBatchedLightSimulation.gen_waveform\u001b[0;34m(self, mode, **kwargs)\u001b[0m\n\u001b[1;32m    381\u001b[0m     \u001b[38;5;28;01mreturn\u001b[39;00m \u001b[38;5;28mself\u001b[39m\u001b[38;5;241m.\u001b[39m_gen_waveform_precise(\u001b[38;5;241m*\u001b[39m\u001b[38;5;241m*\u001b[39mkwargs)\n\u001b[1;32m    382\u001b[0m \u001b[38;5;28;01melif\u001b[39;00m mode \u001b[38;5;241m==\u001b[39m \u001b[38;5;124m'\u001b[39m\u001b[38;5;124mgaussian\u001b[39m\u001b[38;5;124m'\u001b[39m:\n\u001b[0;32m--> 383\u001b[0m     \u001b[38;5;28;01mreturn\u001b[39;00m \u001b[38;5;28;43mself\u001b[39;49m\u001b[38;5;241;43m.\u001b[39;49m\u001b[43m_gen_waveform_gaussian\u001b[49m\u001b[43m(\u001b[49m\u001b[38;5;241;43m*\u001b[39;49m\u001b[38;5;241;43m*\u001b[39;49m\u001b[43mkwargs\u001b[49m\u001b[43m)\u001b[49m\n\u001b[1;32m    384\u001b[0m \u001b[38;5;28;01melse\u001b[39;00m:\n\u001b[1;32m    385\u001b[0m     \u001b[38;5;28;01mpass\u001b[39;00m\n",
      "\u001b[0;31mTypeError\u001b[0m: BatchedLightSimulation._gen_waveform_gaussian() got an unexpected keyword argument 'arrival_times'"
     ]
    }
   ],
   "source": [
    "pmt_ids = torch.arange(128)\n",
    "arrival_times = torch.zeros(128, dtype=torch.int64)\n",
    "nphotons = torch.full_like(pmt_ids, 1000)\n",
    "#wf = sim.gen_waveform(mode='gaussian', pmt_ids=pmt_ids, arrival_times=arrival_times, nphotons=1000)\n",
    "wf = sim.gen_waveform(mode='gaussian', pmt_ids=pmt_ids, nphotons=nphotons)\n",
    "downsampled_wf = sim.downsample_waveform(wf.unsqueeze(0))\n",
    "print(f\"Waveform shape: {wf.shape}\")\n",
    "\n",
    "fig, (ax1, ax2) = plt.subplots(1, 2, figsize=(12, 4))  # 1 row, 2 columns\n",
    "\n",
    "# Left plot: 2D waveform image from downsampled_wf\n",
    "im = ax1.imshow(downsampled_wf.squeeze(0), aspect='auto', origin='lower')\n",
    "ax1.set_xlabel(\"Time Tick\")\n",
    "ax1.set_ylabel(\"PMT ID\")\n",
    "ax1.set_title(\"Input Waveform: Photon Counts per PMT\")\n",
    "cbar = fig.colorbar(im, ax=ax1)\n",
    "cbar.set_label(\"Photon Count\")\n",
    "\n",
    "# Right plot: 1D waveform lines from wf\n",
    "n_pmts, n_ticks = wf.shape\n",
    "ticks = np.arange(n_ticks)\n",
    "for i in range(n_pmts):\n",
    "    ax2.plot(ticks, wf[i], alpha=0.5)\n",
    "ax2.set_xlabel(\"Time Tick\")\n",
    "ax2.set_ylabel(\"Photon Count\")\n",
    "ax2.set_title(\"1D Waveform for All PMTs\")\n",
    "\n",
    "plt.tight_layout()\n",
    "plt.show()"
   ]
  },
  {
   "cell_type": "markdown",
   "id": "eb046921-6505-4a05-ae5d-6e7a2e80bfb6",
   "metadata": {},
   "source": [
    "### Run simulator with stochastic scintillation & larnd-sim electronics convolution.\n",
    "* Stochastic scintillation delay sampling includes prompt and delayed light with fractions specificed by configurable `sim.singlet_fraction`\n",
    "\n",
    "`sim` forward accepts following parameters:\n",
    "- `timing_dist`: input timing distribution of shape `[# in batch, # pmts, # time ticks]`\n",
    "- `scintillation` (`bool`, optional): include stochastic scintillation delay (default is `True`)\n",
    "- `tpb_delay` (`bool`, optional): include stochastic tpb delay (default is `False`)"
   ]
  },
  {
   "cell_type": "code",
   "execution_count": null,
   "id": "570c724f-9841-4a64-8962-3975014d41c6",
   "metadata": {},
   "outputs": [],
   "source": [
    "output, info = sim(wf.to(device), tpb_delay=False, combined=False)\n",
    "output = output.detach().cpu().numpy()\n",
    "print(f\"Output shape: {output.shape}\")\n",
    "\n",
    "fig, (ax1, ax2) = plt.subplots(1, 2, figsize=(12, 4))\n",
    "\n",
    "# 2D timing histogram\n",
    "im = ax1.imshow(output, aspect='auto', origin='lower')\n",
    "ax1.set_xlabel(\"Time Tick\")\n",
    "ax1.set_ylabel(\"PMT ID\")\n",
    "ax1.set_title(\"Output Waveform\")\n",
    "\n",
    "cbar = fig.colorbar(im, ax=ax1)\n",
    "cbar.set_label(\"Output Signal [ADC]\")\n",
    "\n",
    "# 1D waveform per pmt\n",
    "ticks = np.arange(output.shape[1])\n",
    "for i in range(n_pmts):\n",
    "    ax2.plot(ticks, output[i], marker = 'o', markersize=4, alpha=0.5, label=i)\n",
    "ax2.set_xlabel(\"Time Tick\")\n",
    "ax2.set_ylabel(\"Output Signal [ADC]\")\n",
    "ax2.set_title(\"1D Waveform for All PMTs\")\n",
    "plt.tight_layout()\n",
    "plt.show()"
   ]
  },
  {
   "cell_type": "markdown",
   "id": "31159dea-e356-4c4c-8080-d6600da111e4",
   "metadata": {},
   "source": [
    "### Simulate with a time delay from the TPB wavelength shifter\n",
    "This delay is sampled from an exponential re-emission timing distribution with a lifetime of 2 nanoseconds."
   ]
  },
  {
   "cell_type": "code",
   "execution_count": null,
   "id": "33c14fa7-9134-429c-8f34-7e2f430d0525",
   "metadata": {},
   "outputs": [],
   "source": [
    "# Using same input as before: 100 photons per pmt\n",
    "output, info = sim(wf.to(device), tpb_delay=True, combined=False)\n",
    "output = output.detach().cpu().numpy()\n",
    "print(f\"Output shape: {output.shape}\")\n",
    "\n",
    "############### Plotting ############################\n",
    "fig, axs = plt.subplots(2, 2, figsize=(12, 8))  # 2 row, 2 columns\n",
    "ax1, ax2, ax3, ax4 = axs.flatten()\n",
    "\n",
    "# Left plot: 2D waveform image  \n",
    "im = ax1.imshow(wf, aspect='auto', origin='lower')\n",
    "ax1.set_xlabel(\"Time Tick\")\n",
    "ax1.set_ylabel(\"PMT ID\")\n",
    "ax1.set_title(\"Input Waveform: Photon Counts per PMT\")\n",
    "cbar = fig.colorbar(im, ax=ax1)\n",
    "cbar.set_label(\"Photon Count\")\n",
    "\n",
    "# Right plot: 1D waveform lines\n",
    "n_pmts, n_ticks = wf.shape\n",
    "ticks = np.arange(n_ticks)\n",
    "for i in range(n_pmts):\n",
    "    ax2.plot(ticks, wf[i], marker='o', markersize=4, alpha=0.5)\n",
    "ax2.set_xlabel(\"Time Tick\")\n",
    "ax2.set_ylabel(\"Photon Count\")\n",
    "ax2.set_title(\"1D Waveform for All PMTs\")\n",
    "\n",
    "# Bottm left: 2D timing histogram\n",
    "im = ax3.imshow(output, aspect='auto', origin='lower')\n",
    "ax3.set_xlabel(\"Time Tick\")\n",
    "ax3.set_ylabel(\"PMT ID\")\n",
    "ax3.set_title(\"Output Waveform\")\n",
    "\n",
    "cbar = fig.colorbar(im, ax=ax3)\n",
    "cbar.set_label(\"Output Signal [ADC]\")\n",
    "\n",
    "# Bottom right: 1D line plot\n",
    "ticks = np.arange(output.shape[1])\n",
    "for i in range(n_pmts):\n",
    "    ax4.plot(ticks, output[i], marker = 'o', markersize=4, alpha=0.5, label=i)\n",
    "ax4.set_xlabel(\"Time Tick\")\n",
    "ax4.set_ylabel(\"Output Signal [ADC]\")\n",
    "ax4.set_title(\"1D Waveform for All PMTs\")\n",
    "plt.tight_layout()\n",
    "plt.show()"
   ]
  },
  {
   "cell_type": "markdown",
   "id": "5b08c108-2f80-461e-98c4-919560d7fccb",
   "metadata": {},
   "source": [
    "### Finally, simulating with combined scintillation and tpb sampling for fastest version."
   ]
  },
  {
   "cell_type": "code",
   "execution_count": null,
   "id": "7cb0bcde-1738-46a8-a3f2-246180f47914",
   "metadata": {},
   "outputs": [],
   "source": [
    "# Using same input as before: 100 photons per pmt\n",
    "output, info = sim(wf.to(device), combined=True)\n",
    "output = output.detach().cpu().numpy()\n",
    "print(f\"Output shape: {output.shape}\")\n",
    "\n",
    "############### Plotting ############################\n",
    "fig, axs = plt.subplots(2, 2, figsize=(12, 8))  # 2 row, 2 columns\n",
    "ax1, ax2, ax3, ax4 = axs.flatten()\n",
    "\n",
    "# Left plot: 2D waveform image  \n",
    "im = ax1.imshow(wf, aspect='auto', origin='lower')\n",
    "ax1.set_xlabel(\"Time Tick\")\n",
    "ax1.set_ylabel(\"PMT ID\")\n",
    "ax1.set_title(\"Input Waveform: Photon Counts per PMT\")\n",
    "cbar = fig.colorbar(im, ax=ax1)\n",
    "cbar.set_label(\"Photon Count\")\n",
    "\n",
    "# Right plot: 1D waveform lines\n",
    "n_pmts, n_ticks = wf.shape\n",
    "ticks = np.arange(n_ticks)\n",
    "for i in range(n_pmts):\n",
    "    ax2.plot(ticks, wf[i], marker='o', markersize=4, alpha=0.5)\n",
    "ax2.set_xlabel(\"Time Tick\")\n",
    "ax2.set_ylabel(\"Photon Count\")\n",
    "ax2.set_title(\"1D Waveform for All PMTs\")\n",
    "\n",
    "# Bottm left: 2D timing histogram\n",
    "im = ax3.imshow(output, aspect='auto', origin='lower')\n",
    "ax3.set_xlabel(\"Time Tick\")\n",
    "ax3.set_ylabel(\"PMT ID\")\n",
    "ax3.set_title(\"Output Waveform\")\n",
    "\n",
    "cbar = fig.colorbar(im, ax=ax3)\n",
    "cbar.set_label(\"Output Signal [ADC]\")\n",
    "\n",
    "# Bottom right: 1D line plot\n",
    "ticks = np.arange(output.shape[1])\n",
    "for i in range(n_pmts):\n",
    "    ax4.plot(ticks, output[i], marker = 'o', markersize=4, alpha=0.5, label=i)\n",
    "ax4.set_xlabel(\"Time Tick\")\n",
    "ax4.set_ylabel(\"Output Signal [ADC]\")\n",
    "ax4.set_title(\"1D Waveform for All PMTs\")\n",
    "plt.tight_layout()\n",
    "plt.show()"
   ]
  },
  {
   "cell_type": "markdown",
   "id": "9f3d04ab-61d4-45a9-83c2-68f2e1fe65bc",
   "metadata": {},
   "source": [
    "### Plotting the expected & sampled photons from the scintillation and tpb delay distributions."
   ]
  },
  {
   "cell_type": "code",
   "execution_count": null,
   "id": "0746ced1-bb3a-49ae-a6de-4e6a889fdbc7",
   "metadata": {},
   "outputs": [],
   "source": [
    "tpb_tau = 0.002  # 2 nanoseconds\n",
    "\n",
    "# Define bins and compute bin centers/widths\n",
    "bins = np.geomspace(1e-6, 1e0, 100)\n",
    "bin_centers = 0.5 * (bins[:-1] + bins[1:])\n",
    "bin_widths = bins[1:] - bins[:-1]\n",
    "\n",
    "# Get all photon delays\n",
    "emission_delays = info['tpb_emission_delays']\n",
    "flat_delays = torch.cat(emission_delays).cpu().numpy()\n",
    "\n",
    "# Compute histogram\n",
    "hist, _ = np.histogram(flat_delays, bins=bins)\n",
    "\n",
    "# Total photons that should be modeled\n",
    "photons_arrived = info['num_singlets'] + info['num_triplets']\n",
    "\n",
    "# Theoretical exponential PDF evaluated at bin centers\n",
    "pdf = (1 / tpb_tau) * np.exp(-bin_centers / tpb_tau)\n",
    "\n",
    "# Compute expected number of photons per bin by integrating (PDF × bin width)\n",
    "expected = pdf * bin_widths\n",
    "expected_scaled = expected / expected.sum() * photons_arrived\n",
    "\n",
    "# Plot\n",
    "plt.figure(figsize=(7, 5))\n",
    "plt.bar(bin_centers, hist, width=bin_widths, color='skyblue', edgecolor='black', align='center', label='Sampled Photons')\n",
    "plt.plot(bin_centers, expected_scaled, color='red', lw=2, label='Total Expected Photons')\n",
    "\n",
    "plt.xscale('log')\n",
    "plt.xlabel('Emission Delay (μs)')\n",
    "plt.ylabel('Number of Photons')\n",
    "plt.title('TPB Re-emission Delay Spectrum')\n",
    "plt.legend()\n",
    "plt.grid(True, which='both', linestyle=':', linewidth=0.5)\n",
    "plt.tight_layout()\n",
    "plt.show()"
   ]
  },
  {
   "cell_type": "code",
   "execution_count": null,
   "id": "48e04f8d-7f37-4ff3-ad04-44aeed742c76",
   "metadata": {},
   "outputs": [],
   "source": [
    "# Scintillation delay histogram\n",
    "tau_s = sim.tau_s\n",
    "tau_t = sim.tau_t\n",
    "singlet_frac = sim.singlet_fraction\n",
    "triplet_frac = 1 - singlet_frac\n",
    "\n",
    "# Define bins\n",
    "emission_delays = info['scintillation_delays']\n",
    "flat_delays = torch.cat(emission_delays).cpu().numpy()  # shape: (N,)\n",
    "\n",
    "bins = np.geomspace(1e-6, 1e2, 100)\n",
    "hist, bin_edges = np.histogram(flat_delays, bins=bins)\n",
    "bin_centers = 0.5 * (bin_edges[:-1] + bin_edges[1:])\n",
    "bin_widths = bin_edges[1:] - bin_edges[:-1]\n",
    "\n",
    "# calculating n_photons that reached pmt\n",
    "photons_arrived = info['num_singlets'] + info['num_triplets']\n",
    "print(f\"Photons Arrived: {photons_arrived}\")\n",
    "\n",
    "# Compute scaled theoretical PDFs\n",
    "pdf_s = (1 / tau_s) * np.exp(-bin_centers / tau_s)\n",
    "pdf_t = (1 / tau_t) * np.exp(-bin_centers / tau_t)\n",
    "pdf_s_scaled = pdf_s * singlet_frac * photons_arrived * bin_widths\n",
    "pdf_t_scaled = pdf_t * triplet_frac * photons_arrived * bin_widths\n",
    "total_scaled = pdf_s_scaled + pdf_t_scaled\n",
    "\n",
    "# Plot\n",
    "plt.figure(figsize=(7, 5))\n",
    "plt.bar(bin_centers, hist, width=bin_widths, color='skyblue', edgecolor='black', align='center', label='Sampled Photons')\n",
    "plt.plot(bin_centers, total_scaled, color='red', lw=2, label='Total Expected Photons')\n",
    "\n",
    "plt.xscale('log')\n",
    "plt.xlabel('Emission Delay (μs)')\n",
    "plt.ylabel('Number of Photons')\n",
    "plt.title('Scintillation Emission Delay Spectrum')\n",
    "plt.legend()\n",
    "plt.grid(True, which='both', linestyle=':', linewidth=0.5)\n",
    "plt.tight_layout()\n",
    "plt.show()"
   ]
  },
  {
   "cell_type": "markdown",
   "id": "3adf2b7e-19bb-42e1-819c-da870713c46e",
   "metadata": {},
   "source": [
    "### Checking that waveform starts at 0 + offset (no photons before original arrival time)"
   ]
  },
  {
   "cell_type": "code",
   "execution_count": null,
   "id": "a11f779a-6e41-419d-aaeb-f62cf691b5a1",
   "metadata": {},
   "outputs": [],
   "source": [
    "# Checking that waveform starts exactly at 0 (+ some offset)\n",
    "print(output.shape)\n",
    "\n",
    "# from make_waveform.py\n",
    "offset = 2560 # nanoseconds\n",
    "downsample_factor = 16\n",
    "\n",
    "mask = output< -0.001\n",
    "selected_values = output[mask]\n",
    "masked_output = output.copy()  # avoid modifying original\n",
    "masked_output[~(output < -0.001)] = 0\n",
    "\n",
    "print(\"signal starts at tick: \", np.argmax(masked_output != 0))\n",
    "print(\"it should start at tick: \", offset / downsample_factor)"
   ]
  },
  {
   "cell_type": "code",
   "execution_count": null,
   "id": "b0764732-14eb-4cc3-912f-5a5764287860",
   "metadata": {},
   "outputs": [],
   "source": []
  },
  {
   "cell_type": "code",
   "execution_count": null,
   "id": "7adbcdea-88c6-4be4-9019-b662bda0805f",
   "metadata": {},
   "outputs": [],
   "source": []
  }
 ],
 "metadata": {
  "kernelspec": {
   "display_name": "Python 3 (ipykernel)",
   "language": "python",
   "name": "python3"
  },
  "language_info": {
   "codemirror_mode": {
    "name": "ipython",
    "version": 3
   },
   "file_extension": ".py",
   "mimetype": "text/x-python",
   "name": "python",
   "nbconvert_exporter": "python",
   "pygments_lexer": "ipython3",
   "version": "3.10.12"
  }
 },
 "nbformat": 4,
 "nbformat_minor": 5
}
